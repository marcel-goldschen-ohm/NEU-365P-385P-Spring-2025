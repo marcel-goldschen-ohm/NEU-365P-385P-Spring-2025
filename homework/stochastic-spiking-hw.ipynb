{
 "cells": [
  {
   "cell_type": "markdown",
   "id": "da9bf46b-f07e-4625-9f0a-7035f2cb2526",
   "metadata": {
    "tags": []
   },
   "source": [
    "# Stochastic spiking (12 pts)"
   ]
  },
  {
   "cell_type": "markdown",
   "id": "5ff1ce62",
   "metadata": {},
   "source": [
    "---\n",
    "### Collaborators\n",
    "You MUST include a bulleted list with the full names of everyone you collaborated with on this assignment.\n",
    "- Jane Doe\n",
    "- John Doe"
   ]
  },
  {
   "cell_type": "code",
   "execution_count": null,
   "id": "1c00f476",
   "metadata": {},
   "outputs": [],
   "source": [
    "import numpy as np\n",
    "import matplotlib.pyplot as plt\n",
    "%config InlineBackend.figure_format = 'retina'\n",
    "plt.style.use('bmh')\n",
    "plt.rcParams['figure.figsize'] = [10,4]"
   ]
  },
  {
   "cell_type": "markdown",
   "id": "bf62443d",
   "metadata": {},
   "source": [
    "---\n",
    "1. (3 pts) Simulate stochastic spikes from each of 500 neurons over a 400 ms time period where the neurons average spike rates are uniformly distributed between 5 and 20 Hz. *Hint: Your result should be a nested list of lists with one inner list per neuron containing the spike times for that neuron.*"
   ]
  },
  {
   "cell_type": "code",
   "execution_count": null,
   "id": "14f7e997",
   "metadata": {},
   "outputs": [],
   "source": []
  },
  {
   "cell_type": "markdown",
   "id": "b5494efc",
   "metadata": {},
   "source": [
    "---\n",
    "2. (3 pts) Plot a spike raster for the simulated spike train of each neuron in #1 above as in the lecture. *Hint: use plt.eventplot*"
   ]
  },
  {
   "cell_type": "code",
   "execution_count": null,
   "id": "384cf7f7-f8f7-4a84-ae7b-8ced52b76beb",
   "metadata": {},
   "outputs": [],
   "source": []
  },
  {
   "cell_type": "markdown",
   "id": "28c2d0cc",
   "metadata": {},
   "source": [
    "---\n",
    "3. (3 pts) Consider a postsynaptic neuron that is recieving synaptic input from all of the 500 presynaptic neurons simulated above. Plot the total number of spikes that the postsynaptic neuron recieves during each 0.1 ms time step over the total 400 ms time window."
   ]
  },
  {
   "cell_type": "code",
   "execution_count": null,
   "id": "89915059",
   "metadata": {},
   "outputs": [],
   "source": []
  },
  {
   "cell_type": "markdown",
   "id": "3f6799c9",
   "metadata": {},
   "source": [
    "---\n",
    "4. (3 pts)  The postsynaptic neuron's impulse response to each input spike is an exponential decay with amplitude 2 nS and time constant 4 ms. Convolve the net spike input from #3 with the postsynaptic neuron's input response to get the time series of the postsynaptic neuron's conductance response to the input spikes and plot it."
   ]
  },
  {
   "cell_type": "code",
   "execution_count": null,
   "id": "53388eac",
   "metadata": {},
   "outputs": [],
   "source": []
  }
 ],
 "metadata": {
  "kernelspec": {
   "display_name": "Python 3",
   "language": "python",
   "name": "python3"
  },
  "language_info": {
   "codemirror_mode": {
    "name": "ipython",
    "version": 3
   },
   "file_extension": ".py",
   "mimetype": "text/x-python",
   "name": "python",
   "nbconvert_exporter": "python",
   "pygments_lexer": "ipython3",
   "version": "3.13.2"
  }
 },
 "nbformat": 4,
 "nbformat_minor": 5
}
