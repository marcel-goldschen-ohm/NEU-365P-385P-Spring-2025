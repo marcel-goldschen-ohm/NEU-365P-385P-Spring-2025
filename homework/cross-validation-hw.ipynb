{
 "cells": [
  {
   "attachments": {},
   "cell_type": "markdown",
   "id": "da9bf46b-f07e-4625-9f0a-7035f2cb2526",
   "metadata": {
    "editable": true,
    "slideshow": {
     "slide_type": ""
    },
    "tags": []
   },
   "source": [
    "# Cross validation (15 pts)"
   ]
  },
  {
   "cell_type": "markdown",
   "id": "5ff1ce62",
   "metadata": {},
   "source": [
    "---\n",
    "### Collaborators\n",
    "You MUST include a bulleted list with the full names of everyone you collaborated with on this assignment.\n",
    "- Jane Doe\n",
    "- John Doe"
   ]
  },
  {
   "attachments": {},
   "cell_type": "markdown",
   "id": "7189adf9",
   "metadata": {},
   "source": [
    "---\n",
    "The question below will use the diabetes dataset from sklearn. Note that the columns have already been standardized for you."
   ]
  },
  {
   "cell_type": "code",
   "execution_count": 1,
   "id": "2650ad47",
   "metadata": {},
   "outputs": [
    {
     "name": "stdout",
     "output_type": "stream",
     "text": [
      ".. _diabetes_dataset:\n",
      "\n",
      "Diabetes dataset\n",
      "----------------\n",
      "\n",
      "Ten baseline variables, age, sex, body mass index, average blood\n",
      "pressure, and six blood serum measurements were obtained for each of n =\n",
      "442 diabetes patients, as well as the response of interest, a\n",
      "quantitative measure of disease progression one year after baseline.\n",
      "\n",
      "**Data Set Characteristics:**\n",
      "\n",
      ":Number of Instances: 442\n",
      "\n",
      ":Number of Attributes: First 10 columns are numeric predictive values\n",
      "\n",
      ":Target: Column 11 is a quantitative measure of disease progression one year after baseline\n",
      "\n",
      ":Attribute Information:\n",
      "    - age     age in years\n",
      "    - sex\n",
      "    - bmi     body mass index\n",
      "    - bp      average blood pressure\n",
      "    - s1      tc, total serum cholesterol\n",
      "    - s2      ldl, low-density lipoproteins\n",
      "    - s3      hdl, high-density lipoproteins\n",
      "    - s4      tch, total cholesterol / HDL\n",
      "    - s5      ltg, possibly log of serum triglycerides level\n",
      "    - s6      glu, blood sugar level\n",
      "\n",
      "Note: Each of these 10 feature variables have been mean centered and scaled by the standard deviation times the square root of `n_samples` (i.e. the sum of squares of each column totals 1).\n",
      "\n",
      "Source URL:\n",
      "https://www4.stat.ncsu.edu/~boos/var.select/diabetes.html\n",
      "\n",
      "For more information see:\n",
      "Bradley Efron, Trevor Hastie, Iain Johnstone and Robert Tibshirani (2004) \"Least Angle Regression,\" Annals of Statistics (with discussion), 407-499.\n",
      "(https://web.stanford.edu/~hastie/Papers/LARS/LeastAngle_2002.pdf)\n",
      "\n"
     ]
    }
   ],
   "source": [
    "from sklearn import datasets\n",
    "\n",
    "diabetes = datasets.load_diabetes()\n",
    "\n",
    "# features (X) are already standardized\n",
    "X = diabetes.data\n",
    "\n",
    "# target disease progression values are NOT standardized (that's fine)\n",
    "y = diabetes.target\n",
    "\n",
    "# name of each feature (columns of X)\n",
    "features = ['age', 'sex', 'bmi', 'bp', 'tc', 'ldl', 'hdl', 'tch', 'ltg', 'glu']\n",
    "\n",
    "print(diabetes.DESCR)"
   ]
  },
  {
   "attachments": {},
   "cell_type": "markdown",
   "id": "814e6617",
   "metadata": {
    "editable": true,
    "slideshow": {
     "slide_type": ""
    },
    "tags": []
   },
   "source": [
    "---\n",
    "1. (3 pts) Split the patients in the dataset into training (80%) and testing (20%) sets. *You should end up with train/test splits of both your feature variables (X) and your target variable (y).*"
   ]
  },
  {
   "cell_type": "code",
   "execution_count": null,
   "id": "e1d7b597",
   "metadata": {
    "editable": true,
    "slideshow": {
     "slide_type": ""
    },
    "tags": []
   },
   "outputs": [],
   "source": []
  },
  {
   "attachments": {},
   "cell_type": "markdown",
   "id": "2c23a8a5",
   "metadata": {
    "editable": true,
    "slideshow": {
     "slide_type": ""
    },
    "tags": []
   },
   "source": [
    "---\n",
    "2. (3 pts) Use 5-fold cross-validation to evaluate the training and testing (actually validation) mean squared error (MSE) for K-Nearest Neighbors (KNN) models with K ranging from 1 to 50. **!!! ONLY use your training dataset to perform this cross-validation.** *All you are doing here is computing the training and testing error for all models and all K folds.* Make sure to store the errors for later use."
   ]
  },
  {
   "cell_type": "code",
   "execution_count": null,
   "id": "103dd77a",
   "metadata": {
    "editable": true,
    "slideshow": {
     "slide_type": ""
    },
    "tags": []
   },
   "outputs": [],
   "source": []
  },
  {
   "attachments": {},
   "cell_type": "markdown",
   "id": "f19cccd6",
   "metadata": {
    "editable": true,
    "slideshow": {
     "slide_type": ""
    },
    "tags": []
   },
   "source": [
    "---\n",
    "3. (3 pts) Plot the mean (across folds) cross-validated training and testing MSE for each value of K. Determine which value of K is likely to be the best choice for modeling this dataset (use code to extract the best K, don't just visually input which one is best, e.g., see `np.argmin()`)."
   ]
  },
  {
   "cell_type": "code",
   "execution_count": null,
   "id": "c9870848",
   "metadata": {
    "editable": true,
    "slideshow": {
     "slide_type": ""
    },
    "tags": []
   },
   "outputs": [],
   "source": []
  },
  {
   "attachments": {},
   "cell_type": "markdown",
   "id": "2dfec77f",
   "metadata": {
    "editable": true,
    "slideshow": {
     "slide_type": ""
    },
    "tags": []
   },
   "source": [
    "---\n",
    "4. (3 pts) Retrain the model with your selected value of K on the entire training set and evaluate its $R^2$ score on the withheld testing set that you did not use for cross validation. *This is your best measure of your chosen model's error.*"
   ]
  },
  {
   "cell_type": "code",
   "execution_count": null,
   "id": "df7a1841",
   "metadata": {
    "editable": true,
    "slideshow": {
     "slide_type": ""
    },
    "tags": []
   },
   "outputs": [],
   "source": []
  },
  {
   "attachments": {},
   "cell_type": "markdown",
   "id": "b01699db",
   "metadata": {
    "editable": true,
    "slideshow": {
     "slide_type": ""
    },
    "tags": []
   },
   "source": [
    "---\n",
    "5. (3pts) Finally, retrain your selected model on the entire original dataset. This is the final trained version you would use for further predictions. *You don't have to do anything with this model after you train it.*"
   ]
  },
  {
   "cell_type": "code",
   "execution_count": null,
   "id": "5de93ba5",
   "metadata": {
    "editable": true,
    "slideshow": {
     "slide_type": ""
    },
    "tags": []
   },
   "outputs": [],
   "source": []
  }
 ],
 "metadata": {
  "kernelspec": {
   "display_name": "neu365p2",
   "language": "python",
   "name": "python3"
  },
  "language_info": {
   "codemirror_mode": {
    "name": "ipython",
    "version": 3
   },
   "file_extension": ".py",
   "mimetype": "text/x-python",
   "name": "python",
   "nbconvert_exporter": "python",
   "pygments_lexer": "ipython3",
   "version": "3.13.1"
  }
 },
 "nbformat": 4,
 "nbformat_minor": 5
}
