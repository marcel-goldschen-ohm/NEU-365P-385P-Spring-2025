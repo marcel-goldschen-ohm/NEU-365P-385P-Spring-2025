{
 "cells": [
  {
   "attachments": {},
   "cell_type": "markdown",
   "id": "da9bf46b-f07e-4625-9f0a-7035f2cb2526",
   "metadata": {
    "tags": []
   },
   "source": [
    "# Classification (12 pts)"
   ]
  },
  {
   "cell_type": "markdown",
   "id": "5ff1ce62",
   "metadata": {},
   "source": [
    "---\n",
    "### Collaborators\n",
    "You MUST include a bulleted list with the full names of everyone you collaborated with on this assignment.\n",
    "- Jane Doe\n",
    "- John Doe"
   ]
  },
  {
   "cell_type": "markdown",
   "id": "bccb4e43-720d-415c-9b25-8a5378ab6f9f",
   "metadata": {
    "editable": true,
    "slideshow": {
     "slide_type": "slide"
    },
    "tags": []
   },
   "source": [
    "---\n",
    "Questions are based on the following task from [Steinmetz et al. (2019)](https://www.nature.com/articles/s41586-019-1787-x): For a repeated series of trials, a mouse is trained to rotate a wheel to indicate whether it perceives a Gabor pattern to the left or right. Spike rates from many cortical neurons are recorded on each trial. The goal is to build a model that can predict the mouse's choice based on the spiking of its cortical neurons."
   ]
  },
  {
   "cell_type": "markdown",
   "id": "cfcf1772-6753-404f-a742-f0de88d0beb6",
   "metadata": {
    "editable": true,
    "slideshow": {
     "slide_type": "slide"
    },
    "tags": []
   },
   "source": [
    "Load the data:\n",
    "\n",
    "* `choices`: Mouse choice for whether a Gabor stimulus is to the left (0) or right (1) on each of 276 trials.\n",
    "* `spikes`: Normalized spike rates for each of 691 neurons across the cortex recorded with Neuropixel probes on each of 276 trials."
   ]
  },
  {
   "cell_type": "code",
   "execution_count": 1,
   "id": "2ff47703-554a-45fe-8a65-a580335cec6f",
   "metadata": {
    "editable": true,
    "slideshow": {
     "slide_type": ""
    },
    "tags": []
   },
   "outputs": [
    {
     "data": {
      "text/plain": [
       "((276, 691), (276,))"
      ]
     },
     "execution_count": 1,
     "metadata": {},
     "output_type": "execute_result"
    }
   ],
   "source": [
    "import numpy as np\n",
    "\n",
    "# files should be in a data/ folder in the same directory as this notebook\n",
    "spikes = np.load('data/mouse_cortical_spiking.npy')\n",
    "choices = np.load('data/mouse_left_right_choices.npy')\n",
    "\n",
    "spikes.shape, choices.shape"
   ]
  },
  {
   "cell_type": "markdown",
   "id": "6ed5813d-831c-47ae-bd06-888222b80749",
   "metadata": {},
   "source": [
    "---\n",
    "1. (3 pts) Find the optimal missclassification penalty for a Support Vector classifier with a radial basis function as kernel to be used to predict the mouses choice based on its cortical activity."
   ]
  },
  {
   "cell_type": "code",
   "execution_count": null,
   "id": "d7de6c18-9a9d-4561-91a9-07d71c497c8a",
   "metadata": {},
   "outputs": [],
   "source": []
  },
  {
   "cell_type": "markdown",
   "id": "5ab927b4",
   "metadata": {},
   "source": [
    "---\n",
    "2. (3 pts) For the model you selected in #1, report a cross validated estimate of its accuracy on the entire dataset."
   ]
  },
  {
   "cell_type": "code",
   "execution_count": null,
   "id": "43e2845f",
   "metadata": {},
   "outputs": [],
   "source": []
  },
  {
   "cell_type": "markdown",
   "id": "395c269c",
   "metadata": {},
   "source": [
    "---\n",
    "3. (3 pts) For the model you selected in #1, compute cross validated predictions for each trial in the dataset. *You don't have to display anything here.*"
   ]
  },
  {
   "cell_type": "code",
   "execution_count": null,
   "id": "63248d24",
   "metadata": {},
   "outputs": [],
   "source": []
  },
  {
   "cell_type": "markdown",
   "id": "e93429d7-0b9a-427e-bdb3-ee74895fe1ec",
   "metadata": {},
   "source": [
    "---\n",
    "4. (3 pts) For the model you selected in #1, plot a confusion matrix based on the known trial choices and the cross validated predicted choices from #3."
   ]
  },
  {
   "cell_type": "code",
   "execution_count": null,
   "id": "1f5762fe-5b84-462c-964e-8c5cd9fd085a",
   "metadata": {},
   "outputs": [],
   "source": []
  }
 ],
 "metadata": {
  "kernelspec": {
   "display_name": "neu365p2",
   "language": "python",
   "name": "python3"
  },
  "language_info": {
   "codemirror_mode": {
    "name": "ipython",
    "version": 3
   },
   "file_extension": ".py",
   "mimetype": "text/x-python",
   "name": "python",
   "nbconvert_exporter": "python",
   "pygments_lexer": "ipython3",
   "version": "3.13.1"
  }
 },
 "nbformat": 4,
 "nbformat_minor": 5
}
