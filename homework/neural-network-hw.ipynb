{
 "cells": [
  {
   "attachments": {},
   "cell_type": "markdown",
   "id": "da9bf46b-f07e-4625-9f0a-7035f2cb2526",
   "metadata": {
    "tags": []
   },
   "source": [
    "# Homework - Neural Network (15 pts)\n",
    "\n",
    "**!!! Plus 3 pts EXTRA CREDIT**"
   ]
  },
  {
   "cell_type": "markdown",
   "id": "5ff1ce62",
   "metadata": {},
   "source": [
    "---\n",
    "### Collaborators\n",
    "You MUST include a bulleted list with the full names of everyone you collaborated with on this assignment.\n",
    "- Jane Doe\n",
    "- John Doe"
   ]
  },
  {
   "attachments": {},
   "cell_type": "markdown",
   "id": "900b8aa1",
   "metadata": {},
   "source": [
    "---\n",
    "Questions are based on mouse V1 data from Stringer et al. (2019)\n",
    "https://www.biorxiv.org/content/10.1101/679324v2.abstract\n",
    "\n",
    "These data comprise time-averaged responses of ~20,000 neurons to ~4,000 stimulus gratings of different orientations from 0-360 degrees, recorded through Calcium imaging. The responses have been normalized by spontaneous levels of activity and then z-scored over stimuli, so expect negative numbers. They have also been binned and averaged to each degree of orientation."
   ]
  },
  {
   "cell_type": "code",
   "execution_count": 1,
   "id": "d62d03e3",
   "metadata": {},
   "outputs": [
    {
     "data": {
      "text/plain": [
       "((360, 23589), (360,))"
      ]
     },
     "execution_count": 1,
     "metadata": {},
     "output_type": "execute_result"
    }
   ],
   "source": [
    "import numpy as np\n",
    "\n",
    "# columns are neurons, rows are the neural responses to a grating at a particular orientation\n",
    "X = np.load('data/neural_responses.npy')\n",
    "\n",
    "# grating orientations in degrees for each row of X\n",
    "y = np.load('data/grating_orientations.npy')\n",
    "\n",
    "# angle normalized to fall in [0,1]\n",
    "# to get back actual angle, just multiply by 360\n",
    "y /= 360\n",
    "\n",
    "X.shape, y.shape"
   ]
  },
  {
   "attachments": {},
   "cell_type": "markdown",
   "id": "03cd44aa",
   "metadata": {},
   "source": [
    "---\n",
    "1. (3 pts) Use PyTorch to set the variable `device` to either \"cuda\", \"mps\" or \"cpu\" as appropriate for your computer."
   ]
  },
  {
   "cell_type": "code",
   "execution_count": null,
   "id": "8874e49a",
   "metadata": {},
   "outputs": [],
   "source": []
  },
  {
   "cell_type": "markdown",
   "id": "7df25c0f",
   "metadata": {},
   "source": [
    "---\n",
    "2. (3 pts) Split data into training and testing sets with 50% of the data in each set (shuffle the data too). Then convert the data into PyTorch tensors and move them to the appropriate device."
   ]
  },
  {
   "cell_type": "code",
   "execution_count": null,
   "id": "e0833f4d",
   "metadata": {},
   "outputs": [],
   "source": []
  },
  {
   "cell_type": "markdown",
   "id": "478fc81b",
   "metadata": {},
   "source": [
    "---\n",
    "3. (3 pts) Define a PyTorch neural network for predicting grating angle based on neural activity. Input is the activity of all biological neurons. First layer has 500 neurons with ReLU activation. Second layer has 10 neurons with ReLU activation. Third layer has 5 neurons with ReLU activation. Final layer has as many neurons as needed for the task with sinusoidal activation."
   ]
  },
  {
   "cell_type": "code",
   "execution_count": null,
   "id": "9f28c6c8",
   "metadata": {},
   "outputs": [],
   "source": []
  },
  {
   "cell_type": "markdown",
   "id": "4afb5981",
   "metadata": {},
   "source": [
    "---\n",
    "4. (3 pts) Define `train` and `test` functions for training and evaluating your network. These functions should take as input your data and return as output the prediction error. *Batches are optional.*"
   ]
  },
  {
   "cell_type": "code",
   "execution_count": null,
   "id": "24cb606c",
   "metadata": {},
   "outputs": [],
   "source": []
  },
  {
   "attachments": {},
   "cell_type": "markdown",
   "id": "9930f6d0",
   "metadata": {},
   "source": [
    "---\n",
    "5. (3 pts) Create an instance of your neural network on the appropriate device as you determined above, a loss function, a stochastic gradient descent optimizer (you might try a learning rate ~ 0.1), and then train your network with enough epochs to converge. Plot your train and test losses during optimization to visualize convergence. Finally, plot the true vs. predicted grating orientations for your trained model."
   ]
  },
  {
   "cell_type": "code",
   "execution_count": null,
   "id": "eeb98cae",
   "metadata": {},
   "outputs": [],
   "source": []
  }
 ],
 "metadata": {
  "kernelspec": {
   "display_name": "Python 3",
   "language": "python",
   "name": "python3"
  },
  "language_info": {
   "codemirror_mode": {
    "name": "ipython",
    "version": 3
   },
   "file_extension": ".py",
   "mimetype": "text/x-python",
   "name": "python",
   "nbconvert_exporter": "python",
   "pygments_lexer": "ipython3",
   "version": "3.13.2"
  }
 },
 "nbformat": 4,
 "nbformat_minor": 5
}
