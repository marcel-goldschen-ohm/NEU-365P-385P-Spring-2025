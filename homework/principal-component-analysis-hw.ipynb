{
 "cells": [
  {
   "attachments": {},
   "cell_type": "markdown",
   "id": "da9bf46b-f07e-4625-9f0a-7035f2cb2526",
   "metadata": {
    "tags": []
   },
   "source": [
    "# Principal Component Analysis (15 pts)"
   ]
  },
  {
   "cell_type": "markdown",
   "id": "5ff1ce62",
   "metadata": {},
   "source": [
    "---\n",
    "### Collaborators\n",
    "You MUST include a bulleted list with the full names of everyone you collaborated with on this assignment.\n",
    "- Jane Doe\n",
    "- John Doe"
   ]
  },
  {
   "attachments": {},
   "cell_type": "markdown",
   "id": "7189adf9",
   "metadata": {},
   "source": [
    "---\n",
    "Questions are based on the EEG dataset in the file `EEGs.npy`. The data is arranged as discussed in lecture."
   ]
  },
  {
   "cell_type": "code",
   "execution_count": 3,
   "id": "7750a916",
   "metadata": {},
   "outputs": [
    {
     "data": {
      "text/plain": [
       "(64, 640, 99)"
      ]
     },
     "execution_count": 3,
     "metadata": {},
     "output_type": "execute_result"
    }
   ],
   "source": [
    "import numpy as np\n",
    "\n",
    "# file is in the same folder as this notebook\n",
    "EEGs = np.load(\"data/EEGs.npy\")\n",
    "\n",
    "# [channel, time, trial]\n",
    "EEGs.shape"
   ]
  },
  {
   "cell_type": "markdown",
   "id": "e2045751",
   "metadata": {},
   "source": [
    "---\n",
    "1. (3 pts) From the EEG data above, generate the average EEG across trials for each channel. Plot the result for channel index 20."
   ]
  },
  {
   "cell_type": "code",
   "execution_count": null,
   "id": "7b59476c",
   "metadata": {},
   "outputs": [],
   "source": []
  },
  {
   "cell_type": "markdown",
   "id": "992751d4",
   "metadata": {},
   "source": [
    "---\n",
    "2. (3 pts) Apply PCA to the averaged EEGs from #1 above. Use as many principal components (PCs) as needed to explain 85% of the variance in the average EEG waveforms. Plot each PC as if it were an EEG waveform itself."
   ]
  },
  {
   "cell_type": "code",
   "execution_count": null,
   "id": "77ae89bb",
   "metadata": {},
   "outputs": [],
   "source": []
  },
  {
   "cell_type": "markdown",
   "id": "99556bc1",
   "metadata": {},
   "source": [
    "---\n",
    "3. (3 pts) Replot the average EEG for channel 20 as in #1 above, and additionally overlay the plot of its projection onto the principal components from #2 above. Use a legend to label the plots as 'original' and 'projected'. Does it look like we lost a lot of information by describing each waveform using only a small number of PCs as opposed to explicit values at each time point?"
   ]
  },
  {
   "cell_type": "code",
   "execution_count": null,
   "id": "89318d5c",
   "metadata": {},
   "outputs": [],
   "source": []
  },
  {
   "cell_type": "markdown",
   "id": "dfeab914",
   "metadata": {},
   "source": [
    "Very little information appears to have been lost using only four principal components to describe the entire EEG waveform."
   ]
  },
  {
   "cell_type": "markdown",
   "id": "1375cf27",
   "metadata": {},
   "source": [
    "---\n",
    "4. (3 pts) How much of each of the principal component waveforms were mixed together to generate the projection for channel 20 as shown in #3 above? Plot the relative amounts of each principal component as a bar graph."
   ]
  },
  {
   "cell_type": "code",
   "execution_count": null,
   "id": "c8188219",
   "metadata": {},
   "outputs": [],
   "source": []
  },
  {
   "attachments": {},
   "cell_type": "markdown",
   "id": "7a97fd36",
   "metadata": {},
   "source": [
    "---\n",
    "5. (3 pts) Use a Gaussian mixture model (GMM) to group the average EEG waveforms into two clusters in the PCA reduced dimensions. Plot the EEG waveforms as points in the 2-D space of the first two principal components colored according to their cluster."
   ]
  },
  {
   "cell_type": "code",
   "execution_count": null,
   "id": "c70f11fb",
   "metadata": {},
   "outputs": [],
   "source": []
  }
 ],
 "metadata": {
  "kernelspec": {
   "display_name": "neu365p2",
   "language": "python",
   "name": "python3"
  },
  "language_info": {
   "codemirror_mode": {
    "name": "ipython",
    "version": 3
   },
   "file_extension": ".py",
   "mimetype": "text/x-python",
   "name": "python",
   "nbconvert_exporter": "python",
   "pygments_lexer": "ipython3",
   "version": "3.13.1"
  }
 },
 "nbformat": 4,
 "nbformat_minor": 5
}
