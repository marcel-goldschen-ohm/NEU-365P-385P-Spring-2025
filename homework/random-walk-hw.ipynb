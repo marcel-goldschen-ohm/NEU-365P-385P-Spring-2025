{
 "cells": [
  {
   "cell_type": "markdown",
   "metadata": {
    "editable": true,
    "slideshow": {
     "slide_type": ""
    },
    "tags": []
   },
   "source": [
    "# Random walk (12 pts)"
   ]
  },
  {
   "cell_type": "markdown",
   "metadata": {
    "editable": true,
    "slideshow": {
     "slide_type": ""
    },
    "tags": []
   },
   "source": [
    "---\n",
    "### Collaborators\n",
    "You MUST include a bulleted list with the full names of everyone you collaborated with on this assignment.\n",
    "- Jane Doe\n",
    "- John Doe"
   ]
  },
  {
   "cell_type": "markdown",
   "metadata": {
    "editable": true,
    "slideshow": {
     "slide_type": ""
    },
    "tags": []
   },
   "source": [
    "---\n",
    "For the following questions, consider particles undergoing a random walk in three dimensions. Each time step each particle will move by a random amount in the range -1 to 1 along each dimension. Note, steps can be anything between -1 and 1, such as -0.82, 0.5, etc."
   ]
  },
  {
   "cell_type": "markdown",
   "metadata": {
    "editable": true,
    "slideshow": {
     "slide_type": ""
    },
    "tags": []
   },
   "source": [
    "---\n",
    "1. (3 pts) Create a variable to store the (x, y, z) position of each of 500 particles for all of 1000 time steps as a single numpy array. *Hint: Your array should have dimensions time, particle, and position, in any order you choose. Also, you are not setting the particle positions here, just allocating memory to store them. You'll fill in the position values later.*"
   ]
  },
  {
   "cell_type": "code",
   "execution_count": 1,
   "metadata": {
    "editable": true,
    "slideshow": {
     "slide_type": ""
    },
    "tags": []
   },
   "outputs": [],
   "source": []
  },
  {
   "cell_type": "markdown",
   "metadata": {
    "editable": true,
    "slideshow": {
     "slide_type": ""
    },
    "tags": []
   },
   "source": [
    "---\n",
    "2. (3 pts) Set the position of all particles to (0,0,0) for the first time step. *Do this explicityly here even if it is unneeded based on your code from above.*"
   ]
  },
  {
   "cell_type": "code",
   "execution_count": 2,
   "metadata": {
    "editable": true,
    "slideshow": {
     "slide_type": ""
    },
    "tags": []
   },
   "outputs": [],
   "source": []
  },
  {
   "cell_type": "markdown",
   "metadata": {
    "editable": true,
    "slideshow": {
     "slide_type": ""
    },
    "tags": []
   },
   "source": [
    "---\n",
    "3. (3 pts) With all particles starting at position (0,0,0) on the first time step, run the simulation for all subsequent time steps. i.e., on each subsequent time step, randomly determine how far each particle moves along each dimension (different random amount for each particle and each dimension), then store the new particle positions for that time step in your array. Repeat for all time steps. *Hint: You might consider a loop over time steps where you update the particle positions on each time step. Also, `np.random.uniform` may be of use.*"
   ]
  },
  {
   "cell_type": "code",
   "execution_count": 3,
   "metadata": {
    "editable": true,
    "slideshow": {
     "slide_type": ""
    },
    "tags": []
   },
   "outputs": [],
   "source": []
  },
  {
   "cell_type": "markdown",
   "metadata": {
    "editable": true,
    "slideshow": {
     "slide_type": ""
    },
    "tags": []
   },
   "source": [
    "---\n",
    "4. (3 pts) Plot snapshots of your simulation for time steps 10, 100, and 900. Make each plot a 3-D scatter plot of the particle positions for that time step. Ensure that the axes limits are the same for all plots and large enough to contain all of the particles in all plots so that you can visualize what is happening in your simulation (i.e., do NOT autoscale each plot separately as then it will be difficult to see the time progression of your particles). Include the time step in the title above each plot. Also, display all three plots side-by-side in a row (e.g., consider `plt.subplot`). *!!! Note: We did NOT cover 3-D scatter plots using Matplotlib in class, so you will have to look this up on your own.*"
   ]
  },
  {
   "cell_type": "code",
   "execution_count": null,
   "metadata": {
    "editable": true,
    "slideshow": {
     "slide_type": ""
    },
    "tags": []
   },
   "outputs": [],
   "source": []
  }
 ],
 "metadata": {
  "kernelspec": {
   "display_name": "Python 3 (ipykernel)",
   "language": "python",
   "name": "python3"
  },
  "language_info": {
   "codemirror_mode": {
    "name": "ipython",
    "version": 3
   },
   "file_extension": ".py",
   "mimetype": "text/x-python",
   "name": "python",
   "nbconvert_exporter": "python",
   "pygments_lexer": "ipython3",
   "version": "3.12.1"
  },
  "vscode": {
   "interpreter": {
    "hash": "7b6fce1537a0f61b09a1c0f374c9c73e53e0122f3da97a6f70c30069bc6a1f20"
   }
  }
 },
 "nbformat": 4,
 "nbformat_minor": 4
}
