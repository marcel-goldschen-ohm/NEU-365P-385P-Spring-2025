{
 "cells": [
  {
   "cell_type": "markdown",
   "metadata": {},
   "source": [
    "# Maximum Likelihood Estimation (12 pts)"
   ]
  },
  {
   "cell_type": "markdown",
   "metadata": {},
   "source": [
    "---\n",
    "### Collaborators\n",
    "You MUST include a bulleted list with the full names of everyone you collaborated with on this assignment.\n",
    "- Jane Doe\n",
    "- John Doe"
   ]
  },
  {
   "cell_type": "markdown",
   "metadata": {},
   "source": [
    "---\n",
    "The following questions pertain to the dataset in the `data` variable below."
   ]
  },
  {
   "cell_type": "code",
   "execution_count": 1,
   "metadata": {
    "tags": []
   },
   "outputs": [],
   "source": [
    "# !!! Make sure the file `maximum-likelihood-hw-data.txt` is in the same folder as this notebook.\n",
    "import numpy as np\n",
    "data = np.loadtxt('maximum-likelihood-hw-data.txt')"
   ]
  },
  {
   "cell_type": "markdown",
   "metadata": {},
   "source": [
    "---\n",
    "1. (3 pts) Plot a histogram of the data and based on visual inspection decide what probability distribution you will use to describe the data. Write a funtion that takes as input a list of possible data values as the first argument and a list of distribution parameters as the second argument, and then returns the pdf at the input values (e.g., `def pdf(x, params):` where `x` is an array of values to compupte the pdf at and `params` is a list of distribution parameters).\n",
    "- *Hint: Try various histogram binning before you make a decision.*\n",
    "- *Hint: Think about how you will make sure the pdf integrates to 1.*"
   ]
  },
  {
   "cell_type": "code",
   "execution_count": null,
   "metadata": {},
   "outputs": [],
   "source": []
  },
  {
   "cell_type": "markdown",
   "metadata": {},
   "source": [
    "---\n",
    "2. (3 pts) Write a function that takes as input a list of parameters and returns the negative loglikelihood for your distribution (e.g., `def negLL(params):` where `params` is a list of distribution parameters).\n",
    "- *Hint: Remember that you can refer to the global `data` variable in this function.*"
   ]
  },
  {
   "cell_type": "code",
   "execution_count": 4,
   "metadata": {},
   "outputs": [],
   "source": []
  },
  {
   "cell_type": "markdown",
   "metadata": {},
   "source": [
    "---\n",
    "3. (3 pts) Use `scipy.optimize` to find the parameters for your distribution that maximize the likelihood of the dataset.\n",
    "- *Hint: Remember to bound your weight values so they cannot be negative.*\n",
    "- *Hint: If your results are bogus, try changing your initial guess and/or some of your bounds.*"
   ]
  },
  {
   "cell_type": "code",
   "execution_count": null,
   "metadata": {},
   "outputs": [],
   "source": []
  },
  {
   "cell_type": "markdown",
   "metadata": {},
   "source": [
    "---\n",
    "4. (3 pts) Plot a histogram of the data overlaid with the optimized model pdf."
   ]
  },
  {
   "cell_type": "code",
   "execution_count": null,
   "metadata": {},
   "outputs": [],
   "source": []
  }
 ],
 "metadata": {
  "kernelspec": {
   "display_name": "Python 3 (ipykernel)",
   "language": "python",
   "name": "python3"
  },
  "language_info": {
   "codemirror_mode": {
    "name": "ipython",
    "version": 3
   },
   "file_extension": ".py",
   "mimetype": "text/x-python",
   "name": "python",
   "nbconvert_exporter": "python",
   "pygments_lexer": "ipython3",
   "version": "3.12.1"
  },
  "vscode": {
   "interpreter": {
    "hash": "7b6fce1537a0f61b09a1c0f374c9c73e53e0122f3da97a6f70c30069bc6a1f20"
   }
  }
 },
 "nbformat": 4,
 "nbformat_minor": 4
}
